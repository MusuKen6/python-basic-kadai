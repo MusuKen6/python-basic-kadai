{
  "nbformat": 4,
  "nbformat_minor": 0,
  "metadata": {
    "colab": {
      "provenance": []
    },
    "kernelspec": {
      "name": "python3",
      "display_name": "Python 3"
    },
    "language_info": {
      "name": "python"
    }
  },
  "cells": [
    {
      "cell_type": "code",
      "source": [
        "# 台形の寸法\n",
        "top_side = 10\n",
        "bottom_side = 20\n",
        "height = 5\n",
        "\n",
        "# 台形の面積 =（上辺＋下辺）× 高さ ÷ 2\n",
        "area = (top_side + bottom_side) * height / 2\n",
        "\n",
        "# 面積結果と文字列cm²の連結\n",
        "print(f\"{area}cm²\")"
      ],
      "metadata": {
        "colab": {
          "base_uri": "https://localhost:8080/"
        },
        "id": "9kuOdU4WZ1kB",
        "outputId": "92cf7ff8-8980-45a0-d149-34c685f0b489"
      },
      "execution_count": 30,
      "outputs": [
        {
          "output_type": "stream",
          "name": "stdout",
          "text": [
            "75.0cm²\n"
          ]
        }
      ]
    }
  ]
}