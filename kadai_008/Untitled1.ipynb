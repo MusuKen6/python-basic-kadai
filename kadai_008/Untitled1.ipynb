{
  "nbformat": 4,
  "nbformat_minor": 0,
  "metadata": {
    "colab": {
      "provenance": []
    },
    "kernelspec": {
      "name": "python3",
      "display_name": "Python 3"
    },
    "language_info": {
      "name": "python"
    }
  },
  "cells": [
    {
      "cell_type": "code",
      "execution_count": 31,
      "metadata": {
        "colab": {
          "base_uri": "https://localhost:8080/"
        },
        "id": "JJFSezW6l6IU",
        "outputId": "38e14fc5-6823-4453-d6b3-ade12850da93"
      },
      "outputs": [
        {
          "output_type": "stream",
          "name": "stdout",
          "text": [
            "8\n"
          ]
        }
      ],
      "source": [
        "# 変数varは任意の数値(正の整数とする)\n",
        "var = 8\n",
        "# 変数varが、3の倍数と5の倍数の両方に該当する場合は「FizzBuzz」を出力\n",
        "if var % 3 == 0 and var % 5 == 0:\n",
        "    print(\"FizzBuzz\")\n",
        "# 変数・変数varが、3の倍数の場合は「Fizz」を出力\n",
        "elif var % 3 == 0:\n",
        "    print(\"Fizz\")\n",
        "# 変数varが、5の倍数の場合は「Buzz」を出力\n",
        "elif var % 5 == 0:\n",
        "    print(\"Buzz\")\n",
        "# 上記のどの場合にも該当しない場合は、変数varの値を出力\n",
        "else:\n",
        "    print(var)"
      ]
    }
  ]
}