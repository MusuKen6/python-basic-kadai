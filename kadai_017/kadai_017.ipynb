{
  "nbformat": 4,
  "nbformat_minor": 0,
  "metadata": {
    "colab": {
      "provenance": []
    },
    "kernelspec": {
      "name": "python3",
      "display_name": "Python 3"
    },
    "language_info": {
      "name": "python"
    }
  },
  "cells": [
    {
      "cell_type": "code",
      "execution_count": 1,
      "metadata": {
        "colab": {
          "base_uri": "https://localhost:8080/"
        },
        "id": "oNz3awu5dHK8",
        "outputId": "626f7fb4-3b6e-45b2-fdbc-7dc3facf0d75"
      },
      "outputs": [
        {
          "output_type": "stream",
          "name": "stdout",
          "text": [
            "太郎（25歳）は大人です。\n",
            "花子（18歳）は大人ではありません。\n",
            "次郎（20歳）は大人です。\n",
            "三郎（15歳）は大人ではありません。\n"
          ]
        }
      ],
      "source": [
        "# Humanクラスの定義\n",
        "class Human:\n",
        "    def __init__(self, name, age):\n",
        "        self.name = name\n",
        "        self.age = age\n",
        "\n",
        "    # 大人かどうかをチェックするメソッド\n",
        "    def check_adult(self):\n",
        "        if self.age >= 20:\n",
        "            print(f\"{self.name}（{self.age}歳）は大人です。\")\n",
        "        else:\n",
        "            print(f\"{self.name}（{self.age}歳）は大人ではありません。\")\n",
        "\n",
        "# ヒューマンインスタンスを生成してリストに追加する関数\n",
        "def create_human_list():\n",
        "    # ディクショナリで名前と年齢を管理\n",
        "    human_data = [\n",
        "        {\"name\": \"太郎\", \"age\": 25},\n",
        "        {\"name\": \"花子\", \"age\": 18},\n",
        "        {\"name\": \"次郎\", \"age\": 20},\n",
        "        {\"name\": \"三郎\", \"age\": 15}\n",
        "    ]\n",
        "\n",
        "    human_list = []  # ヒューマンのインスタンスを入れるリスト\n",
        "\n",
        "    for data in human_data:\n",
        "        human = Human(data[\"name\"], data[\"age\"])\n",
        "        human_list.append(human)\n",
        "\n",
        "    return human_list\n",
        "\n",
        "# main関数（スコープの管理）\n",
        "def main():\n",
        "    humans = create_human_list()\n",
        "    for person in humans:\n",
        "        person.check_adult()\n",
        "\n",
        "# プログラムの実行\n",
        "if __name__ == \"__main__\":\n",
        "    main()\n"
      ]
    }
  ]
}