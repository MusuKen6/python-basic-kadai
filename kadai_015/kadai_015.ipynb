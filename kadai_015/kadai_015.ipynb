{
  "nbformat": 4,
  "nbformat_minor": 0,
  "metadata": {
    "colab": {
      "provenance": []
    },
    "kernelspec": {
      "name": "python3",
      "display_name": "Python 3"
    },
    "language_info": {
      "name": "python"
    }
  },
  "cells": [
    {
      "cell_type": "code",
      "execution_count": 1,
      "metadata": {
        "colab": {
          "base_uri": "https://localhost:8080/"
        },
        "id": "Bu3KWJ-Heahu",
        "outputId": "4272ca9c-651b-4b15-e947-ceab82d2bf85"
      },
      "outputs": [
        {
          "output_type": "stream",
          "name": "stdout",
          "text": [
            "名前: 侍花子\n",
            "年齢: 38\n"
          ]
        }
      ],
      "source": [
        "# Humanクラスの定義\n",
        "class Human:\n",
        "    # コンストラクタ：インスタンスが作られるときに自動的に呼ばれる\n",
        "    def __init__(self, name, age):\n",
        "        self.name = name  # 名前を保持する\n",
        "        self.age = age    # 年齢を保持する\n",
        "\n",
        "    # 情報を出力するメソッド\n",
        "    def printinfo(self):\n",
        "        print(\"名前:\", self.name)\n",
        "        print(\"年齢:\", self.age)\n",
        "\n",
        "# Humanクラスのインスタンスを作成し、変数human1に代入\n",
        "human1 = Human(\"侍花子\", 38)\n",
        "\n",
        "# メソッドを使って情報を表示\n",
        "human1.printinfo()"
      ]
    }
  ]
}