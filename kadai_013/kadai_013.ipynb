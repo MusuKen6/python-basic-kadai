{
  "nbformat": 4,
  "nbformat_minor": 0,
  "metadata": {
    "colab": {
      "provenance": []
    },
    "kernelspec": {
      "name": "python3",
      "display_name": "Python 3"
    },
    "language_info": {
      "name": "python"
    }
  },
  "cells": [
    {
      "cell_type": "code",
      "execution_count": 1,
      "metadata": {
        "colab": {
          "base_uri": "https://localhost:8080/"
        },
        "id": "KVM1kuYSvUYX",
        "outputId": "1aa88a50-4c70-47eb-f353-491e81c925d8"
      },
      "outputs": [
        {
          "output_type": "stream",
          "name": "stdout",
          "text": [
            "121.0\n"
          ]
        }
      ],
      "source": [
        "# 消費税を加えた価格を計算する関数\n",
        "def calc_tax_included_price(price, tax_rate):\n",
        "    # 税率をパーセントから小数に変換し、税込価格を計算\n",
        "    tax_included = price + (price * tax_rate / 100)\n",
        "    return tax_included\n",
        "\n",
        "# 関数の呼び出し（例：金額110円、消費税10%）\n",
        "price = 110\n",
        "tax_rate = 10\n",
        "total_price = calc_tax_included_price(price, tax_rate)\n",
        "\n",
        "# 計算結果の表示\n",
        "print(total_price)"
      ]
    }
  ]
}